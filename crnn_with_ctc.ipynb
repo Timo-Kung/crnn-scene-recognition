{
 "cells": [
  {
   "cell_type": "code",
   "execution_count": 44,
   "id": "793b62e6",
   "metadata": {},
   "outputs": [],
   "source": [
    "import os\n",
    "from pathlib import Path\n",
    "import numpy as np\n",
    "import pandas as pd\n",
    "import matplotlib.pyplot as plt  \n",
    "os.environ['TF_FORCE_GPU_ALLOW_GROWTH'] = 'true'"
   ]
  },
  {
   "cell_type": "code",
   "execution_count": 45,
   "id": "f214c9d4",
   "metadata": {},
   "outputs": [
    {
     "name": "stdout",
     "output_type": "stream",
     "text": [
      "TensorFlow Version: 2.5.0\n",
      "Keras Version: 2.5.0\n"
     ]
    }
   ],
   "source": [
    "import tensorflow as tf\n",
    "from tensorflow.keras import layers\n",
    "from tensorflow.keras import backend as K\n",
    "from tensorflow.keras.models import Model, load_model\n",
    "from tensorflow.keras.layers import Input, Conv2D, MaxPooling2D, BatchNormalization, Flatten, Dense, Dropout, Reshape, Bidirectional, LSTM\n",
    "from tensorflow.keras.optimizers import *\n",
    "from tensorflow.keras.callbacks import *\n",
    "\n",
    "print( 'TensorFlow Version:', tf.__version__ )\n",
    "print( 'Keras Version:', tf.keras.__version__ ) "
   ]
  },
  {
   "cell_type": "code",
   "execution_count": 54,
   "id": "1f9d48ca",
   "metadata": {},
   "outputs": [],
   "source": [
    "# Path to the dataset directory\n",
    "train = pd.read_csv('./dataset/label/public_training_data.csv')\n",
    "valid = pd.read_csv('./dataset/label/public_validation_data.csv')\n",
    "\n",
    "data_dir_train = Path('./dataset/non_modified/public_training_data/')\n",
    "data_dir_valid = Path('./dataset/non_modified/public_validation_data/')\n",
    "train['IMAGE'] = sorted(list(map(str, list(data_dir_train.glob('*.jpg')))))\n",
    "valid['IMAGE'] = sorted(list(map(str, list(data_dir_valid.glob('*.jpg')))))"
   ]
  },
  {
   "cell_type": "code",
   "execution_count": 63,
   "id": "b6752ea3",
   "metadata": {},
   "outputs": [
    {
     "name": "stdout",
     "output_type": "stream",
     "text": [
      "                               filename       label  \\\n",
      "0       oR72wdOuzdHVh3sMMmC4gMG2aG5jeub  3LN996012F   \n",
      "1        7VVWhb6tKde=x=w5x6_p=lfcTlGTBa  2FV271041L   \n",
      "2      VweTPTTYjERnFWFr3R7=YFKrj9NBT1Lg  2FV413012A   \n",
      "3       XOIg4ZPERXLzBmsdMd4XNHYH1r=Urbr  3LP563013A   \n",
      "4      jm85agd8RyzlDBl6jjnpypYIuVw7BTvb  3LR436033F   \n",
      "...                                 ...         ...   \n",
      "12062  KVbBuo6P=Pv4FsTMGW84LHFgiK2H2=nU  3LZ146042A   \n",
      "12063  mVE9bWuj9S_vFwQHEIH_e5mMZ4javQF8  2G2204042K   \n",
      "12064  glBWhEUeVftedEqw=qq=mzBrC=gwMyFs  2FM573063K   \n",
      "12065  Xv19H4GQWajfdKTsHBcJoz8RaKTVa7BR   1WG43V203   \n",
      "12066                            #NAME?  1W8935042F   \n",
      "\n",
      "                                                   IMAGE  Length  \n",
      "0      dataset\\non_modified\\public_training_data\\11gU...      10  \n",
      "1      dataset\\non_modified\\public_training_data\\11vx...      10  \n",
      "2      dataset\\non_modified\\public_training_data\\12Mv...      10  \n",
      "3      dataset\\non_modified\\public_training_data\\12kv...      10  \n",
      "4      dataset\\non_modified\\public_training_data\\12oI...      10  \n",
      "...                                                  ...     ...  \n",
      "12062  dataset\\non_modified\\public_training_data\\zzQe...      10  \n",
      "12063  dataset\\non_modified\\public_training_data\\zzZ_...      10  \n",
      "12064  dataset\\non_modified\\public_training_data\\zzfv...      10  \n",
      "12065  dataset\\non_modified\\public_training_data\\zzoE...       9  \n",
      "12066  dataset\\non_modified\\public_training_data\\zzqL...      10  \n",
      "\n",
      "[12067 rows x 4 columns]\n"
     ]
    }
   ],
   "source": [
    "train.dropna(axis=0,inplace=True)\n",
    "valid.dropna(axis=0,inplace=True)\n",
    "\n",
    "train = train[train['label'] != 'UNREADABLE']\n",
    "valid = valid[valid['label'] != 'UNREADABLE']\n",
    "\n",
    "train.reset_index(inplace=True,drop=True)\n",
    "valid.reset_index(inplace=True,drop=True)\n",
    "\n",
    "train['label'] = train['label'].str.upper()\n",
    "valid['label'] = valid['label'].str.upper()\n",
    "\n",
    "train['Length']=train['label'].apply(lambda x : len(str(x)))\n",
    "valid['Length']=valid['label'].apply(lambda x : len(str(x)))\n",
    "\n",
    "train = train[train['Length']<=21]\n",
    "valid = valid[valid['Length']<=21]"
   ]
  },
  {
   "cell_type": "code",
   "execution_count": 56,
   "id": "27068ab2",
   "metadata": {},
   "outputs": [
    {
     "name": "stdout",
     "output_type": "stream",
     "text": [
      "Number of images found:  12067\n",
      "Number of labels found:  12067 \n",
      "\n",
      "Width of any captcha image: 1232\n",
      "Height of any captcha image: 1028\n",
      "Characters present:  {'R', '3', 'G', 'h', 'M', '9', 'C', 'c', 'E', 'Z', 'S', '=', 'T', 'm', 'i', 'P', 's', '5', 'q', '4', 'D', 'Y', 't', 'Q', 'O', 'p', 'U', 'u', 'X', 'H', 'F', 'v', 'd', 'b', 'x', 'K', 'e', '6', '_', 'J', 'I', 'k', 'f', 'w', '7', 'V', '2', '1', 'a', '8', 'L', 'j', 'l', 'n', 'g', 'B', 'o', 'W', 'z', 'r', 'y', 'N'}\n",
      "Number of unique characters:  62\n",
      "Maxium length of any captcha image:  32\n"
     ]
    }
   ],
   "source": [
    "# Get list of all the images\n",
    "Images = sorted( list(map(str, list(data_dir.glob('*.jpg')))) )\n",
    "Labels = [ img.split(os.path.sep)[-1].split(\".jpg\")[0] for img in Images ]\n",
    "Characters = set( char for label in Labels for char in label )\n",
    "Image_Height = set( tf.image.decode_png(tf.io.read_file(img_path)).shape[0] for img_path in Images )\n",
    "Image_Width = set( tf.image.decode_png(tf.io.read_file(img_path)).shape[1] for img_path in Images )\n",
    "\n",
    "# Maximum length of any captcha in the dataset\n",
    "Max_Length = max([ len(label) for label in Labels ])\n",
    "\n",
    "print( 'Number of images found: ', len(Images) )\n",
    "print( 'Number of labels found: ', len(Labels), '\\n' )\n",
    "print( 'Width of any captcha image:', next(iter(Image_Width)) )\n",
    "print( 'Height of any captcha image:', next(iter(Image_Height)) )\n",
    "print( 'Characters present: ', Characters ) \n",
    "print( 'Number of unique characters: ', len(Characters) )\n",
    "print( 'Maxium length of any captcha image: ', Max_Length )"
   ]
  },
  {
   "cell_type": "code",
   "execution_count": 57,
   "id": "7a6eebb4",
   "metadata": {},
   "outputs": [],
   "source": [
    "# Desired image dimensions where img_width % 4==0 and img_hight % 16==0 \n",
    "img_width = 256\n",
    "img_height = 64\n",
    "\n",
    "# Number of passes of the entire training set the algorithm has completed\n",
    "Epochs = 128\n",
    "\n",
    "# Number of each batch\n",
    "Batch_Size = 120\n",
    "\n",
    "# Early Stopping\n",
    "'''\n",
    "min_delta: 容忍模型進步的最小幅度\n",
    "patience: 容忍訓練無再進步時的 Epoch 次數\n",
    "'''\n",
    "Early_Stopping_Patience = 10 \n",
    "Min_Delta = 0.0001"
   ]
  },
  {
   "cell_type": "code",
   "execution_count": 58,
   "id": "0d901a70",
   "metadata": {},
   "outputs": [],
   "source": [
    "# Mapping characters to integers\n",
    "char_to_num = layers.experimental.preprocessing.StringLookup(\n",
    "                  vocabulary=sorted(list(Characters)), num_oov_indices=0, mask_token=None )\n",
    "\n",
    "# Mapping integers back to original characters\n",
    "num_to_char = layers.experimental.preprocessing.StringLookup(\n",
    "                  vocabulary=char_to_num.get_vocabulary(), mask_token=None, invert=True )"
   ]
  },
  {
   "cell_type": "code",
   "execution_count": 59,
   "id": "6d3d2203",
   "metadata": {},
   "outputs": [],
   "source": [
    "def encode_single_sample( img_path, label ):\n",
    "    # 1. Read image\n",
    "    img = tf.io.read_file( img_path )\n",
    "    # 2. Decode and convert to grayscale\n",
    "    img = tf.io.decode_png( img, channels=1 )\n",
    "    # 3. Convert to float32 in [0, 1] range\n",
    "    img = tf.image.convert_image_dtype( img, tf.float32 )\n",
    "    # 4. Resize to the desired size\n",
    "    img = tf.image.resize( img, [img_height,img_width] )\n",
    "    # 5. Transpose the image because we want the time dimension to correspond to the width of the image, \n",
    "    #    i.e., shape = (img_weight,img_height,1).\n",
    "    img = tf.transpose( img, perm=[1,0,2] )\n",
    "    # 6. Map the characters in label to numbers\n",
    "    label = char_to_num( tf.strings.unicode_split(label, input_encoding='UTF-8') )\n",
    "    # 7. Return a dict as our model is expecting two inputs\n",
    "    return { \"Input\": img, \"Label\": label }"
   ]
  },
  {
   "cell_type": "code",
   "execution_count": 60,
   "id": "52ba580c",
   "metadata": {},
   "outputs": [
    {
     "name": "stdout",
     "output_type": "stream",
     "text": [
      "Number of training set: 10860\n",
      "Number of validation set: 1207\n"
     ]
    }
   ],
   "source": [
    "# Splitting dataset into training and validation sets\n",
    "def split_data( Images, Labels, train_size=0.9, shuffle=True ):\n",
    "    # 1. Get the total amount of the dataset\n",
    "    size = len( Images )\n",
    "    # 2. Make an indices array and shuffle it, if required\n",
    "    indices = np.arange( size )\n",
    "    if shuffle:\n",
    "        np.random.seed(42) \n",
    "        np.random.shuffle( indices )\n",
    "    # 3. Get the size of training samples\n",
    "    train_samples = int( size*train_size )\n",
    "    # 4. Split data into training and validation sets\n",
    "    x_train, y_train = Images[indices[:train_samples]], Labels[indices[:train_samples]]\n",
    "    x_valid, y_valid = Images[indices[train_samples:]], Labels[indices[train_samples:]]\n",
    "    return x_train, x_valid, y_train, y_valid\n",
    "\n",
    "x_train, x_valid, y_train, y_valid = split_data( np.array(Images), np.array(Labels) )\n",
    "\n",
    "print( 'Number of training set:', len(x_train) )\n",
    "print( 'Number of validation set:', len(x_valid) )"
   ]
  },
  {
   "cell_type": "code",
   "execution_count": 61,
   "id": "5aec9692",
   "metadata": {},
   "outputs": [],
   "source": [
    "# Create training and valodation dataset objects\n",
    "train_dataset = tf.data.Dataset.from_tensor_slices( (x_train,y_train) )\n",
    "train_dataset = (\n",
    "    train_dataset.map(\n",
    "        encode_single_sample, num_parallel_calls=tf.data.experimental.AUTOTUNE\n",
    "    )\n",
    "    .batch(Batch_Size)\n",
    "    .prefetch(buffer_size=tf.data.experimental.AUTOTUNE)\n",
    ")\n",
    "\n",
    "validation_dataset = tf.data.Dataset.from_tensor_slices( (x_valid,y_valid) )\n",
    "validation_dataset = (\n",
    "    validation_dataset.map(\n",
    "        encode_single_sample, num_parallel_calls=tf.data.experimental.AUTOTUNE\n",
    "    )\n",
    "    .batch(Batch_Size)\n",
    "    .prefetch(buffer_size=tf.data.experimental.AUTOTUNE)\n",
    ")"
   ]
  },
  {
   "cell_type": "code",
   "execution_count": 62,
   "id": "f45cb1ac",
   "metadata": {},
   "outputs": [
    {
     "ename": "InvalidArgumentError",
     "evalue": "Cannot add tensor to the batch: number of elements does not match. Shapes are: [tensor]: [30], [batch]: [31] [Op:IteratorGetNext]",
     "output_type": "error",
     "traceback": [
      "\u001b[1;31m---------------------------------------------------------------------------\u001b[0m",
      "\u001b[1;31mInvalidArgumentError\u001b[0m                      Traceback (most recent call last)",
      "\u001b[1;32m<ipython-input-62-c060196ca11f>\u001b[0m in \u001b[0;36m<module>\u001b[1;34m\u001b[0m\n\u001b[0;32m      1\u001b[0m \u001b[1;31m# Visualize the Training Dataset\u001b[0m\u001b[1;33m\u001b[0m\u001b[1;33m\u001b[0m\u001b[1;33m\u001b[0m\u001b[0m\n\u001b[0;32m      2\u001b[0m \u001b[0m_\u001b[0m\u001b[1;33m,\u001b[0m \u001b[0max\u001b[0m \u001b[1;33m=\u001b[0m \u001b[0mplt\u001b[0m\u001b[1;33m.\u001b[0m\u001b[0msubplots\u001b[0m\u001b[1;33m(\u001b[0m\u001b[1;36m4\u001b[0m\u001b[1;33m,\u001b[0m \u001b[1;36m4\u001b[0m\u001b[1;33m,\u001b[0m \u001b[0mfigsize\u001b[0m\u001b[1;33m=\u001b[0m\u001b[1;33m(\u001b[0m\u001b[1;36m15\u001b[0m\u001b[1;33m,\u001b[0m \u001b[1;36m10\u001b[0m\u001b[1;33m)\u001b[0m\u001b[1;33m)\u001b[0m\u001b[1;33m\u001b[0m\u001b[1;33m\u001b[0m\u001b[0m\n\u001b[1;32m----> 3\u001b[1;33m \u001b[1;32mfor\u001b[0m \u001b[0mbatch\u001b[0m \u001b[1;32min\u001b[0m \u001b[0mtrain_dataset\u001b[0m\u001b[1;33m.\u001b[0m\u001b[0mtake\u001b[0m\u001b[1;33m(\u001b[0m\u001b[1;36m1\u001b[0m\u001b[1;33m)\u001b[0m\u001b[1;33m:\u001b[0m\u001b[1;33m\u001b[0m\u001b[1;33m\u001b[0m\u001b[0m\n\u001b[0m\u001b[0;32m      4\u001b[0m     \u001b[0mimages\u001b[0m \u001b[1;33m=\u001b[0m \u001b[0mbatch\u001b[0m\u001b[1;33m[\u001b[0m\u001b[1;34m\"image\"\u001b[0m\u001b[1;33m]\u001b[0m\u001b[1;33m\u001b[0m\u001b[1;33m\u001b[0m\u001b[0m\n\u001b[0;32m      5\u001b[0m     \u001b[0mlabels\u001b[0m \u001b[1;33m=\u001b[0m \u001b[0mbatch\u001b[0m\u001b[1;33m[\u001b[0m\u001b[1;34m\"label\"\u001b[0m\u001b[1;33m]\u001b[0m\u001b[1;33m\u001b[0m\u001b[1;33m\u001b[0m\u001b[0m\n",
      "\u001b[1;32m~\\AppData\\Roaming\\Python\\Python38\\site-packages\\tensorflow\\python\\data\\ops\\iterator_ops.py\u001b[0m in \u001b[0;36m__next__\u001b[1;34m(self)\u001b[0m\n\u001b[0;32m    759\u001b[0m   \u001b[1;32mdef\u001b[0m \u001b[0m__next__\u001b[0m\u001b[1;33m(\u001b[0m\u001b[0mself\u001b[0m\u001b[1;33m)\u001b[0m\u001b[1;33m:\u001b[0m\u001b[1;33m\u001b[0m\u001b[1;33m\u001b[0m\u001b[0m\n\u001b[0;32m    760\u001b[0m     \u001b[1;32mtry\u001b[0m\u001b[1;33m:\u001b[0m\u001b[1;33m\u001b[0m\u001b[1;33m\u001b[0m\u001b[0m\n\u001b[1;32m--> 761\u001b[1;33m       \u001b[1;32mreturn\u001b[0m \u001b[0mself\u001b[0m\u001b[1;33m.\u001b[0m\u001b[0m_next_internal\u001b[0m\u001b[1;33m(\u001b[0m\u001b[1;33m)\u001b[0m\u001b[1;33m\u001b[0m\u001b[1;33m\u001b[0m\u001b[0m\n\u001b[0m\u001b[0;32m    762\u001b[0m     \u001b[1;32mexcept\u001b[0m \u001b[0merrors\u001b[0m\u001b[1;33m.\u001b[0m\u001b[0mOutOfRangeError\u001b[0m\u001b[1;33m:\u001b[0m\u001b[1;33m\u001b[0m\u001b[1;33m\u001b[0m\u001b[0m\n\u001b[0;32m    763\u001b[0m       \u001b[1;32mraise\u001b[0m \u001b[0mStopIteration\u001b[0m\u001b[1;33m\u001b[0m\u001b[1;33m\u001b[0m\u001b[0m\n",
      "\u001b[1;32m~\\AppData\\Roaming\\Python\\Python38\\site-packages\\tensorflow\\python\\data\\ops\\iterator_ops.py\u001b[0m in \u001b[0;36m_next_internal\u001b[1;34m(self)\u001b[0m\n\u001b[0;32m    742\u001b[0m     \u001b[1;31m# to communicate that there is no more data to iterate over.\u001b[0m\u001b[1;33m\u001b[0m\u001b[1;33m\u001b[0m\u001b[1;33m\u001b[0m\u001b[0m\n\u001b[0;32m    743\u001b[0m     \u001b[1;32mwith\u001b[0m \u001b[0mcontext\u001b[0m\u001b[1;33m.\u001b[0m\u001b[0mexecution_mode\u001b[0m\u001b[1;33m(\u001b[0m\u001b[0mcontext\u001b[0m\u001b[1;33m.\u001b[0m\u001b[0mSYNC\u001b[0m\u001b[1;33m)\u001b[0m\u001b[1;33m:\u001b[0m\u001b[1;33m\u001b[0m\u001b[1;33m\u001b[0m\u001b[0m\n\u001b[1;32m--> 744\u001b[1;33m       ret = gen_dataset_ops.iterator_get_next(\n\u001b[0m\u001b[0;32m    745\u001b[0m           \u001b[0mself\u001b[0m\u001b[1;33m.\u001b[0m\u001b[0m_iterator_resource\u001b[0m\u001b[1;33m,\u001b[0m\u001b[1;33m\u001b[0m\u001b[1;33m\u001b[0m\u001b[0m\n\u001b[0;32m    746\u001b[0m           \u001b[0moutput_types\u001b[0m\u001b[1;33m=\u001b[0m\u001b[0mself\u001b[0m\u001b[1;33m.\u001b[0m\u001b[0m_flat_output_types\u001b[0m\u001b[1;33m,\u001b[0m\u001b[1;33m\u001b[0m\u001b[1;33m\u001b[0m\u001b[0m\n",
      "\u001b[1;32m~\\AppData\\Roaming\\Python\\Python38\\site-packages\\tensorflow\\python\\ops\\gen_dataset_ops.py\u001b[0m in \u001b[0;36miterator_get_next\u001b[1;34m(iterator, output_types, output_shapes, name)\u001b[0m\n\u001b[0;32m   2725\u001b[0m       \u001b[1;32mreturn\u001b[0m \u001b[0m_result\u001b[0m\u001b[1;33m\u001b[0m\u001b[1;33m\u001b[0m\u001b[0m\n\u001b[0;32m   2726\u001b[0m     \u001b[1;32mexcept\u001b[0m \u001b[0m_core\u001b[0m\u001b[1;33m.\u001b[0m\u001b[0m_NotOkStatusException\u001b[0m \u001b[1;32mas\u001b[0m \u001b[0me\u001b[0m\u001b[1;33m:\u001b[0m\u001b[1;33m\u001b[0m\u001b[1;33m\u001b[0m\u001b[0m\n\u001b[1;32m-> 2727\u001b[1;33m       \u001b[0m_ops\u001b[0m\u001b[1;33m.\u001b[0m\u001b[0mraise_from_not_ok_status\u001b[0m\u001b[1;33m(\u001b[0m\u001b[0me\u001b[0m\u001b[1;33m,\u001b[0m \u001b[0mname\u001b[0m\u001b[1;33m)\u001b[0m\u001b[1;33m\u001b[0m\u001b[1;33m\u001b[0m\u001b[0m\n\u001b[0m\u001b[0;32m   2728\u001b[0m     \u001b[1;32mexcept\u001b[0m \u001b[0m_core\u001b[0m\u001b[1;33m.\u001b[0m\u001b[0m_FallbackException\u001b[0m\u001b[1;33m:\u001b[0m\u001b[1;33m\u001b[0m\u001b[1;33m\u001b[0m\u001b[0m\n\u001b[0;32m   2729\u001b[0m       \u001b[1;32mpass\u001b[0m\u001b[1;33m\u001b[0m\u001b[1;33m\u001b[0m\u001b[0m\n",
      "\u001b[1;32m~\\AppData\\Roaming\\Python\\Python38\\site-packages\\tensorflow\\python\\framework\\ops.py\u001b[0m in \u001b[0;36mraise_from_not_ok_status\u001b[1;34m(e, name)\u001b[0m\n\u001b[0;32m   6895\u001b[0m   \u001b[0mmessage\u001b[0m \u001b[1;33m=\u001b[0m \u001b[0me\u001b[0m\u001b[1;33m.\u001b[0m\u001b[0mmessage\u001b[0m \u001b[1;33m+\u001b[0m \u001b[1;33m(\u001b[0m\u001b[1;34m\" name: \"\u001b[0m \u001b[1;33m+\u001b[0m \u001b[0mname\u001b[0m \u001b[1;32mif\u001b[0m \u001b[0mname\u001b[0m \u001b[1;32mis\u001b[0m \u001b[1;32mnot\u001b[0m \u001b[1;32mNone\u001b[0m \u001b[1;32melse\u001b[0m \u001b[1;34m\"\"\u001b[0m\u001b[1;33m)\u001b[0m\u001b[1;33m\u001b[0m\u001b[1;33m\u001b[0m\u001b[0m\n\u001b[0;32m   6896\u001b[0m   \u001b[1;31m# pylint: disable=protected-access\u001b[0m\u001b[1;33m\u001b[0m\u001b[1;33m\u001b[0m\u001b[1;33m\u001b[0m\u001b[0m\n\u001b[1;32m-> 6897\u001b[1;33m   \u001b[0msix\u001b[0m\u001b[1;33m.\u001b[0m\u001b[0mraise_from\u001b[0m\u001b[1;33m(\u001b[0m\u001b[0mcore\u001b[0m\u001b[1;33m.\u001b[0m\u001b[0m_status_to_exception\u001b[0m\u001b[1;33m(\u001b[0m\u001b[0me\u001b[0m\u001b[1;33m.\u001b[0m\u001b[0mcode\u001b[0m\u001b[1;33m,\u001b[0m \u001b[0mmessage\u001b[0m\u001b[1;33m)\u001b[0m\u001b[1;33m,\u001b[0m \u001b[1;32mNone\u001b[0m\u001b[1;33m)\u001b[0m\u001b[1;33m\u001b[0m\u001b[1;33m\u001b[0m\u001b[0m\n\u001b[0m\u001b[0;32m   6898\u001b[0m   \u001b[1;31m# pylint: enable=protected-access\u001b[0m\u001b[1;33m\u001b[0m\u001b[1;33m\u001b[0m\u001b[1;33m\u001b[0m\u001b[0m\n\u001b[0;32m   6899\u001b[0m \u001b[1;33m\u001b[0m\u001b[0m\n",
      "\u001b[1;32mC:\\ProgramData\\Anaconda3\\lib\\site-packages\\six.py\u001b[0m in \u001b[0;36mraise_from\u001b[1;34m(value, from_value)\u001b[0m\n",
      "\u001b[1;31mInvalidArgumentError\u001b[0m: Cannot add tensor to the batch: number of elements does not match. Shapes are: [tensor]: [30], [batch]: [31] [Op:IteratorGetNext]"
     ]
    },
    {
     "data": {
      "image/png": "[encoded data removed]",
      "text/plain": [
       "<Figure size 1080x720 with 16 Axes>"
      ]
     },
     "metadata": {
      "needs_background": "light"
     },
     "output_type": "display_data"
    }
   ],
   "source": [
    "# Visualize the Training Dataset\n",
    "_, ax = plt.subplots(4, 4, figsize=(15, 10))\n",
    "for batch in train_dataset.take(1):\n",
    "    images = batch[\"image\"]\n",
    "    labels = batch[\"label\"]\n",
    "    for i in range(16):\n",
    "        img = (images[i] * 255).numpy().astype(\"uint8\")\n",
    "        label = tf.strings.reduce_join(num_to_char(labels[i])).numpy().decode(\"utf-8\")\n",
    "        ax[i // 4, i % 4].imshow(img[:, :, 0].T, cmap=\"gray\")\n",
    "        ax[i // 4, i % 4].set_title(label)\n",
    "        ax[i // 4, i % 4].axis(\"off\")\n",
    "plt.show()"
   ]
  },
  {
   "cell_type": "code",
   "execution_count": 25,
   "id": "fb3229d9",
   "metadata": {},
   "outputs": [],
   "source": [
    "# Build an endpoint layer for implementing CTC loss.\n",
    "class CTCLayer( layers.Layer ):\n",
    "    def __init__( self, name=None, **kwargs ):\n",
    "        super().__init__( name=name )\n",
    "        self.loss_fn = K.ctc_batch_cost\n",
    "\n",
    "    def call(self, y_true, y_pred):\n",
    "        # Compute the training-time loss value and add it to the layer using `self.add_loss()`.\n",
    "        batch_len = tf.cast( tf.shape(y_true)[0], dtype='int64' )\n",
    "        input_length = tf.cast( tf.shape(y_pred)[1], dtype='int64' )\n",
    "        label_length = tf.cast( tf.shape(y_true)[1], dtype='int64' )\n",
    "        \n",
    "        input_length = input_length*tf.ones( shape=(batch_len,1), dtype='int64' )\n",
    "        label_length = label_length*tf.ones( shape=(batch_len,1), dtype='int64' )\n",
    "\n",
    "        loss = self.loss_fn( y_true, y_pred, input_length, label_length )\n",
    "        self.add_loss(loss)\n",
    "\n",
    "        # At test time, just return the computed predictions\n",
    "        return y_pred"
   ]
  },
  {
   "cell_type": "code",
   "execution_count": 26,
   "id": "c30aa133",
   "metadata": {},
   "outputs": [
    {
     "name": "stdout",
     "output_type": "stream",
     "text": [
      "Model: \"CRNN_Model_with_CTC_LOSS\"\n",
      "__________________________________________________________________________________________________\n",
      "Layer (type)                    Output Shape         Param #     Connected to                     \n",
      "==================================================================================================\n",
      "Input (InputLayer)              [(None, 250, 550, 1) 0                                            \n",
      "__________________________________________________________________________________________________\n",
      "Conv_1 (Conv2D)                 (None, 250, 550, 64) 640         Input[0][0]                      \n",
      "__________________________________________________________________________________________________\n",
      "MaxPooling_1 (MaxPooling2D)     (None, 125, 275, 64) 0           Conv_1[0][0]                     \n",
      "__________________________________________________________________________________________________\n",
      "Conv_2 (Conv2D)                 (None, 125, 275, 128 73856       MaxPooling_1[0][0]               \n",
      "__________________________________________________________________________________________________\n",
      "MaxPooling_2 (MaxPooling2D)     (None, 62, 137, 128) 0           Conv_2[0][0]                     \n",
      "__________________________________________________________________________________________________\n",
      "Conv_3 (Conv2D)                 (None, 62, 137, 256) 295168      MaxPooling_2[0][0]               \n",
      "__________________________________________________________________________________________________\n",
      "BN_1 (BatchNormalization)       (None, 62, 137, 256) 1024        Conv_3[0][0]                     \n",
      "__________________________________________________________________________________________________\n",
      "Conv_4 (Conv2D)                 (None, 62, 137, 512) 1180160     BN_1[0][0]                       \n",
      "__________________________________________________________________________________________________\n",
      "MaxPooling_3 (MaxPooling2D)     (None, 31, 69, 512)  0           Conv_4[0][0]                     \n",
      "__________________________________________________________________________________________________\n",
      "Conv_5 (Conv2D)                 (None, 30, 68, 512)  1049088     MaxPooling_3[0][0]               \n",
      "__________________________________________________________________________________________________\n",
      "Reshape (Reshape)               (None, 30, 34816)    0           Conv_5[0][0]                     \n",
      "__________________________________________________________________________________________________\n",
      "Dense (Dense)                   (None, 30, 64)       2228288     Reshape[0][0]                    \n",
      "__________________________________________________________________________________________________\n",
      "Dropout (Dropout)               (None, 30, 64)       0           Dense[0][0]                      \n",
      "__________________________________________________________________________________________________\n",
      "LSTM_1 (Bidirectional)          (None, 30, 512)      657408      Dropout[0][0]                    \n",
      "__________________________________________________________________________________________________\n",
      "LSTM_2 (Bidirectional)          (None, 30, 512)      1574912     LSTM_1[0][0]                     \n",
      "__________________________________________________________________________________________________\n",
      "Label (InputLayer)              [(None, None)]       0                                            \n",
      "__________________________________________________________________________________________________\n",
      "Softmax (Dense)                 (None, 30, 63)       32319       LSTM_2[0][0]                     \n",
      "__________________________________________________________________________________________________\n",
      "CTC_Loss (CTCLayer)             (None, 30, 63)       0           Label[0][0]                      \n",
      "                                                                 Softmax[0][0]                    \n",
      "==================================================================================================\n",
      "Total params: 7,092,863\n",
      "Trainable params: 7,092,351\n",
      "Non-trainable params: 512\n",
      "__________________________________________________________________________________________________\n"
     ]
    }
   ],
   "source": [
    "def Build_Model():\n",
    "    # Inputs to the model \n",
    "    input_tensor = Input( (img_width,img_height,1), dtype='float32', name='Input' )\n",
    "    labels = Input( shape=(None,), dtype='float32', name=\"Label\" )\n",
    "    \n",
    "    # First convolution block\n",
    "    x = Conv2D( 64, (3,3), activation='relu', padding='same', name='Conv_1' )(input_tensor)\n",
    "    x = MaxPooling2D( pool_size=(2,2), strides=2, name='MaxPooling_1' )(x)\n",
    "    \n",
    "    # Second convolution block\n",
    "    x = Conv2D( 128, (3,3), activation='relu', padding='same', name='Conv_2' )(x)\n",
    "    x = MaxPooling2D( pool_size=(2,2), strides=2, name='MaxPooling_2' )(x)\n",
    "    \n",
    "    # Third convolution block\n",
    "    x = Conv2D( 256, (3,3), activation='relu', padding='same', name='Conv_3' )(x)\n",
    "    x = BatchNormalization( name='BN_1' )(x)\n",
    "    \n",
    "    # Fourth convolution block\n",
    "    x = Conv2D( 512, (3,3), activation='relu', padding='same', name='Conv_4' )(x)  \n",
    "    x = MaxPooling2D( pool_size=(2,1), strides=2, name='MaxPooling_3' )(x)\n",
    "    \n",
    "    # Fifth convolution block\n",
    "    x = Conv2D( 512, (2,2), activation='relu', name='Conv_5' )(x)\n",
    "    \n",
    "    # Reshape accordingly before passing the output to the RNN part of the model,\n",
    "    # i.e., convert shape=(batch,feature_weight,feature_height,channel) to shape=(batch,feature_weight,channel*feature_height) \n",
    "    Conv_Shape = x.get_shape( )\n",
    "    x = Reshape( target_shape=(int(Conv_Shape[1]),int(Conv_Shape[2]*Conv_Shape[3])), name='Reshape' )(x)\n",
    "    x = Dense( 64, activation='relu', name='Dense' )(x)\n",
    "    x = Dropout( 0.25, name='Dropout' )(x)\n",
    "\n",
    "    # RNNs\n",
    "    x = Bidirectional( LSTM( 256, return_sequences=True, dropout=0.25 ), name='LSTM_1' )(x)\n",
    "    x = Bidirectional( LSTM( 256, return_sequences=True, dropout=0.25 ), name='LSTM_2' )(x)\n",
    "\n",
    "    # Output layer\n",
    "    x = Dense( len(Characters)+1, activation='softmax', name='Softmax' )(x) \n",
    "\n",
    "    # Add CTC layer for calculating CTC loss at each step\n",
    "    output = CTCLayer( name='CTC_Loss' )(labels, x)\n",
    "    \n",
    "    # Define the model\n",
    "    model = Model( inputs=[input_tensor,labels], outputs=[output], name='CRNN_Model_with_CTC_LOSS' )    \n",
    "    \n",
    "    # Compile the model and return\n",
    "    model.compile( optimizer=Adam() )\n",
    "    \n",
    "    return model\n",
    "\n",
    "CRNN = Build_Model()\n",
    "CRNN.summary()"
   ]
  },
  {
   "cell_type": "code",
   "execution_count": 27,
   "id": "6d131357",
   "metadata": {},
   "outputs": [],
   "source": [
    "# Model Check Point\n",
    "Check_Point = ModelCheckpoint( 'CRNN.h5',   # Filepath\n",
    "                               monitor='val_loss',\n",
    "                               save_best_only=True,\n",
    "                               verbose=1,\n",
    "                               mode='auto',\n",
    "                               save_weights_only=False,\n",
    "                               save_freq='epoch' )"
   ]
  },
  {
   "cell_type": "code",
   "execution_count": 28,
   "id": "477be657",
   "metadata": {},
   "outputs": [],
   "source": [
    "# Add early stopping\n",
    "Early_Stopping = EarlyStopping( monitor='val_loss',\n",
    "                                min_delta=Min_Delta,\n",
    "                                patience=Early_Stopping_Patience,\n",
    "                                verbose=1,\n",
    "                                mode='auto',\n",
    "                                baseline=None,\n",
    "                                restore_best_weights=True )"
   ]
  },
  {
   "cell_type": "code",
   "execution_count": 29,
   "id": "ee2b8548",
   "metadata": {},
   "outputs": [
    {
     "name": "stdout",
     "output_type": "stream",
     "text": [
      "Epoch 1/100\n"
     ]
    },
    {
     "ename": "InvalidArgumentError",
     "evalue": "2 root error(s) found.\n  (0) Invalid argument:  Cannot add tensor to the batch: number of elements does not match. Shapes are: [tensor]: [30], [batch]: [32]\n\t [[node IteratorGetNext (defined at <ipython-input-29-bb4eac9e3457>:1) ]]\n  (1) Invalid argument:  Cannot add tensor to the batch: number of elements does not match. Shapes are: [tensor]: [30], [batch]: [32]\n\t [[node IteratorGetNext (defined at <ipython-input-29-bb4eac9e3457>:1) ]]\n\t [[IteratorGetNext/_7]]\n0 successful operations.\n0 derived errors ignored. [Op:__inference_train_function_85178]\n\nFunction call stack:\ntrain_function -> train_function\n",
     "output_type": "error",
     "traceback": [
      "\u001b[1;31m---------------------------------------------------------------------------\u001b[0m",
      "\u001b[1;31mInvalidArgumentError\u001b[0m                      Traceback (most recent call last)",
      "\u001b[1;32m<ipython-input-29-bb4eac9e3457>\u001b[0m in \u001b[0;36m<module>\u001b[1;34m\u001b[0m\n\u001b[1;32m----> 1\u001b[1;33m History = CRNN.fit( train_dataset, validation_data=validation_dataset, epochs=Epochs, \n\u001b[0m\u001b[0;32m      2\u001b[0m                     callbacks=[ Check_Point, Early_Stopping ] )     \n",
      "\u001b[1;32m~\\AppData\\Roaming\\Python\\Python38\\site-packages\\tensorflow\\python\\keras\\engine\\training.py\u001b[0m in \u001b[0;36mfit\u001b[1;34m(self, x, y, batch_size, epochs, verbose, callbacks, validation_split, validation_data, shuffle, class_weight, sample_weight, initial_epoch, steps_per_epoch, validation_steps, validation_batch_size, validation_freq, max_queue_size, workers, use_multiprocessing)\u001b[0m\n\u001b[0;32m   1181\u001b[0m                 _r=1):\n\u001b[0;32m   1182\u001b[0m               \u001b[0mcallbacks\u001b[0m\u001b[1;33m.\u001b[0m\u001b[0mon_train_batch_begin\u001b[0m\u001b[1;33m(\u001b[0m\u001b[0mstep\u001b[0m\u001b[1;33m)\u001b[0m\u001b[1;33m\u001b[0m\u001b[1;33m\u001b[0m\u001b[0m\n\u001b[1;32m-> 1183\u001b[1;33m               \u001b[0mtmp_logs\u001b[0m \u001b[1;33m=\u001b[0m \u001b[0mself\u001b[0m\u001b[1;33m.\u001b[0m\u001b[0mtrain_function\u001b[0m\u001b[1;33m(\u001b[0m\u001b[0miterator\u001b[0m\u001b[1;33m)\u001b[0m\u001b[1;33m\u001b[0m\u001b[1;33m\u001b[0m\u001b[0m\n\u001b[0m\u001b[0;32m   1184\u001b[0m               \u001b[1;32mif\u001b[0m \u001b[0mdata_handler\u001b[0m\u001b[1;33m.\u001b[0m\u001b[0mshould_sync\u001b[0m\u001b[1;33m:\u001b[0m\u001b[1;33m\u001b[0m\u001b[1;33m\u001b[0m\u001b[0m\n\u001b[0;32m   1185\u001b[0m                 \u001b[0mcontext\u001b[0m\u001b[1;33m.\u001b[0m\u001b[0masync_wait\u001b[0m\u001b[1;33m(\u001b[0m\u001b[1;33m)\u001b[0m\u001b[1;33m\u001b[0m\u001b[1;33m\u001b[0m\u001b[0m\n",
      "\u001b[1;32m~\\AppData\\Roaming\\Python\\Python38\\site-packages\\tensorflow\\python\\eager\\def_function.py\u001b[0m in \u001b[0;36m__call__\u001b[1;34m(self, *args, **kwds)\u001b[0m\n\u001b[0;32m    887\u001b[0m \u001b[1;33m\u001b[0m\u001b[0m\n\u001b[0;32m    888\u001b[0m       \u001b[1;32mwith\u001b[0m \u001b[0mOptionalXlaContext\u001b[0m\u001b[1;33m(\u001b[0m\u001b[0mself\u001b[0m\u001b[1;33m.\u001b[0m\u001b[0m_jit_compile\u001b[0m\u001b[1;33m)\u001b[0m\u001b[1;33m:\u001b[0m\u001b[1;33m\u001b[0m\u001b[1;33m\u001b[0m\u001b[0m\n\u001b[1;32m--> 889\u001b[1;33m         \u001b[0mresult\u001b[0m \u001b[1;33m=\u001b[0m \u001b[0mself\u001b[0m\u001b[1;33m.\u001b[0m\u001b[0m_call\u001b[0m\u001b[1;33m(\u001b[0m\u001b[1;33m*\u001b[0m\u001b[0margs\u001b[0m\u001b[1;33m,\u001b[0m \u001b[1;33m**\u001b[0m\u001b[0mkwds\u001b[0m\u001b[1;33m)\u001b[0m\u001b[1;33m\u001b[0m\u001b[1;33m\u001b[0m\u001b[0m\n\u001b[0m\u001b[0;32m    890\u001b[0m \u001b[1;33m\u001b[0m\u001b[0m\n\u001b[0;32m    891\u001b[0m       \u001b[0mnew_tracing_count\u001b[0m \u001b[1;33m=\u001b[0m \u001b[0mself\u001b[0m\u001b[1;33m.\u001b[0m\u001b[0mexperimental_get_tracing_count\u001b[0m\u001b[1;33m(\u001b[0m\u001b[1;33m)\u001b[0m\u001b[1;33m\u001b[0m\u001b[1;33m\u001b[0m\u001b[0m\n",
      "\u001b[1;32m~\\AppData\\Roaming\\Python\\Python38\\site-packages\\tensorflow\\python\\eager\\def_function.py\u001b[0m in \u001b[0;36m_call\u001b[1;34m(self, *args, **kwds)\u001b[0m\n\u001b[0;32m    948\u001b[0m         \u001b[1;31m# Lifting succeeded, so variables are initialized and we can run the\u001b[0m\u001b[1;33m\u001b[0m\u001b[1;33m\u001b[0m\u001b[1;33m\u001b[0m\u001b[0m\n\u001b[0;32m    949\u001b[0m         \u001b[1;31m# stateless function.\u001b[0m\u001b[1;33m\u001b[0m\u001b[1;33m\u001b[0m\u001b[1;33m\u001b[0m\u001b[0m\n\u001b[1;32m--> 950\u001b[1;33m         \u001b[1;32mreturn\u001b[0m \u001b[0mself\u001b[0m\u001b[1;33m.\u001b[0m\u001b[0m_stateless_fn\u001b[0m\u001b[1;33m(\u001b[0m\u001b[1;33m*\u001b[0m\u001b[0margs\u001b[0m\u001b[1;33m,\u001b[0m \u001b[1;33m**\u001b[0m\u001b[0mkwds\u001b[0m\u001b[1;33m)\u001b[0m\u001b[1;33m\u001b[0m\u001b[1;33m\u001b[0m\u001b[0m\n\u001b[0m\u001b[0;32m    951\u001b[0m     \u001b[1;32melse\u001b[0m\u001b[1;33m:\u001b[0m\u001b[1;33m\u001b[0m\u001b[1;33m\u001b[0m\u001b[0m\n\u001b[0;32m    952\u001b[0m       \u001b[0m_\u001b[0m\u001b[1;33m,\u001b[0m \u001b[0m_\u001b[0m\u001b[1;33m,\u001b[0m \u001b[0m_\u001b[0m\u001b[1;33m,\u001b[0m \u001b[0mfiltered_flat_args\u001b[0m \u001b[1;33m=\u001b[0m\u001b[0;31m \u001b[0m\u001b[0;31m\\\u001b[0m\u001b[1;33m\u001b[0m\u001b[1;33m\u001b[0m\u001b[0m\n",
      "\u001b[1;32m~\\AppData\\Roaming\\Python\\Python38\\site-packages\\tensorflow\\python\\eager\\function.py\u001b[0m in \u001b[0;36m__call__\u001b[1;34m(self, *args, **kwargs)\u001b[0m\n\u001b[0;32m   3021\u001b[0m       (graph_function,\n\u001b[0;32m   3022\u001b[0m        filtered_flat_args) = self._maybe_define_function(args, kwargs)\n\u001b[1;32m-> 3023\u001b[1;33m     return graph_function._call_flat(\n\u001b[0m\u001b[0;32m   3024\u001b[0m         filtered_flat_args, captured_inputs=graph_function.captured_inputs)  # pylint: disable=protected-access\n\u001b[0;32m   3025\u001b[0m \u001b[1;33m\u001b[0m\u001b[0m\n",
      "\u001b[1;32m~\\AppData\\Roaming\\Python\\Python38\\site-packages\\tensorflow\\python\\eager\\function.py\u001b[0m in \u001b[0;36m_call_flat\u001b[1;34m(self, args, captured_inputs, cancellation_manager)\u001b[0m\n\u001b[0;32m   1958\u001b[0m         and executing_eagerly):\n\u001b[0;32m   1959\u001b[0m       \u001b[1;31m# No tape is watching; skip to running the function.\u001b[0m\u001b[1;33m\u001b[0m\u001b[1;33m\u001b[0m\u001b[1;33m\u001b[0m\u001b[0m\n\u001b[1;32m-> 1960\u001b[1;33m       return self._build_call_outputs(self._inference_function.call(\n\u001b[0m\u001b[0;32m   1961\u001b[0m           ctx, args, cancellation_manager=cancellation_manager))\n\u001b[0;32m   1962\u001b[0m     forward_backward = self._select_forward_and_backward_functions(\n",
      "\u001b[1;32m~\\AppData\\Roaming\\Python\\Python38\\site-packages\\tensorflow\\python\\eager\\function.py\u001b[0m in \u001b[0;36mcall\u001b[1;34m(self, ctx, args, cancellation_manager)\u001b[0m\n\u001b[0;32m    589\u001b[0m       \u001b[1;32mwith\u001b[0m \u001b[0m_InterpolateFunctionError\u001b[0m\u001b[1;33m(\u001b[0m\u001b[0mself\u001b[0m\u001b[1;33m)\u001b[0m\u001b[1;33m:\u001b[0m\u001b[1;33m\u001b[0m\u001b[1;33m\u001b[0m\u001b[0m\n\u001b[0;32m    590\u001b[0m         \u001b[1;32mif\u001b[0m \u001b[0mcancellation_manager\u001b[0m \u001b[1;32mis\u001b[0m \u001b[1;32mNone\u001b[0m\u001b[1;33m:\u001b[0m\u001b[1;33m\u001b[0m\u001b[1;33m\u001b[0m\u001b[0m\n\u001b[1;32m--> 591\u001b[1;33m           outputs = execute.execute(\n\u001b[0m\u001b[0;32m    592\u001b[0m               \u001b[0mstr\u001b[0m\u001b[1;33m(\u001b[0m\u001b[0mself\u001b[0m\u001b[1;33m.\u001b[0m\u001b[0msignature\u001b[0m\u001b[1;33m.\u001b[0m\u001b[0mname\u001b[0m\u001b[1;33m)\u001b[0m\u001b[1;33m,\u001b[0m\u001b[1;33m\u001b[0m\u001b[1;33m\u001b[0m\u001b[0m\n\u001b[0;32m    593\u001b[0m               \u001b[0mnum_outputs\u001b[0m\u001b[1;33m=\u001b[0m\u001b[0mself\u001b[0m\u001b[1;33m.\u001b[0m\u001b[0m_num_outputs\u001b[0m\u001b[1;33m,\u001b[0m\u001b[1;33m\u001b[0m\u001b[1;33m\u001b[0m\u001b[0m\n",
      "\u001b[1;32m~\\AppData\\Roaming\\Python\\Python38\\site-packages\\tensorflow\\python\\eager\\execute.py\u001b[0m in \u001b[0;36mquick_execute\u001b[1;34m(op_name, num_outputs, inputs, attrs, ctx, name)\u001b[0m\n\u001b[0;32m     57\u001b[0m   \u001b[1;32mtry\u001b[0m\u001b[1;33m:\u001b[0m\u001b[1;33m\u001b[0m\u001b[1;33m\u001b[0m\u001b[0m\n\u001b[0;32m     58\u001b[0m     \u001b[0mctx\u001b[0m\u001b[1;33m.\u001b[0m\u001b[0mensure_initialized\u001b[0m\u001b[1;33m(\u001b[0m\u001b[1;33m)\u001b[0m\u001b[1;33m\u001b[0m\u001b[1;33m\u001b[0m\u001b[0m\n\u001b[1;32m---> 59\u001b[1;33m     tensors = pywrap_tfe.TFE_Py_Execute(ctx._handle, device_name, op_name,\n\u001b[0m\u001b[0;32m     60\u001b[0m                                         inputs, attrs, num_outputs)\n\u001b[0;32m     61\u001b[0m   \u001b[1;32mexcept\u001b[0m \u001b[0mcore\u001b[0m\u001b[1;33m.\u001b[0m\u001b[0m_NotOkStatusException\u001b[0m \u001b[1;32mas\u001b[0m \u001b[0me\u001b[0m\u001b[1;33m:\u001b[0m\u001b[1;33m\u001b[0m\u001b[1;33m\u001b[0m\u001b[0m\n",
      "\u001b[1;31mInvalidArgumentError\u001b[0m: 2 root error(s) found.\n  (0) Invalid argument:  Cannot add tensor to the batch: number of elements does not match. Shapes are: [tensor]: [30], [batch]: [32]\n\t [[node IteratorGetNext (defined at <ipython-input-29-bb4eac9e3457>:1) ]]\n  (1) Invalid argument:  Cannot add tensor to the batch: number of elements does not match. Shapes are: [tensor]: [30], [batch]: [32]\n\t [[node IteratorGetNext (defined at <ipython-input-29-bb4eac9e3457>:1) ]]\n\t [[IteratorGetNext/_7]]\n0 successful operations.\n0 derived errors ignored. [Op:__inference_train_function_85178]\n\nFunction call stack:\ntrain_function -> train_function\n"
     ]
    }
   ],
   "source": [
    "History = CRNN.fit( train_dataset, validation_data=validation_dataset, epochs=Epochs, \n",
    "                    callbacks=[ Check_Point, Early_Stopping ] )     "
   ]
  }
 ],
 "metadata": {
  "kernelspec": {
   "display_name": "Python 3",
   "language": "python",
   "name": "python3"
  },
  "language_info": {
   "codemirror_mode": {
    "name": "ipython",
    "version": 3
   },
   "file_extension": ".py",
   "mimetype": "text/x-python",
   "name": "python",
   "nbconvert_exporter": "python",
   "pygments_lexer": "ipython3",
   "version": "3.8.8"
  }
 },
 "nbformat": 4,
 "nbformat_minor": 5
}
