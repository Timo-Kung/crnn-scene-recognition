{
 "cells": [
  {
   "cell_type": "code",
   "execution_count": 16,
   "id": "72e11080",
   "metadata": {},
   "outputs": [
    {
     "name": "stdout",
     "output_type": "stream",
     "text": [
      "(0, '383.02484', '428.33862', '719.62604', '470.56534')\n"
     ]
    }
   ],
   "source": [
    "import csv\n",
    "import os\n",
    "images_name = os.listdir(\"./public_training_data_1/\")\n",
    "\n",
    "with open('./public_training_data_1.csv') as csvfile:\n",
    "    rows = csv.DictReader(csvfile)\n",
    "    for row in rows:\n",
    "        a = str(row['top left x'])\n",
    "        b = str(row['top left y'])\n",
    "        c = str(row['bottom right x'])\n",
    "        d = str(row['bottom right y'])\n",
    "        e = 0, a, b, c, d\n",
    "        for i in images_name:\n",
    "            path = \"./yolo/dataset/public_training_data_txt/\" + i + \".txt\"\n",
    "            f = open(path, 'w')\n",
    "    f.write(str(e))\n",
    "    f.close()\n",
    "    print(e)\n",
    "#     print(0, row['top left x'], row['top left y'], row['bottom right x'], row['bottom right y'])"
   ]
  },
  {
   "cell_type": "code",
   "execution_count": 29,
   "id": "97a26ea9",
   "metadata": {},
   "outputs": [
    {
     "ename": "TypeError",
     "evalue": "'NoneType' object is not subscriptable",
     "output_type": "error",
     "traceback": [
      "\u001b[1;31m---------------------------------------------------------------------------\u001b[0m",
      "\u001b[1;31mTypeError\u001b[0m                                 Traceback (most recent call last)",
      "\u001b[1;32m<ipython-input-29-daa1d45fce4a>\u001b[0m in \u001b[0;36m<module>\u001b[1;34m\u001b[0m\n\u001b[0;32m     13\u001b[0m         \u001b[1;32mfor\u001b[0m \u001b[0mi\u001b[0m \u001b[1;32min\u001b[0m \u001b[0mimages_name\u001b[0m\u001b[1;33m:\u001b[0m\u001b[1;33m\u001b[0m\u001b[1;33m\u001b[0m\u001b[0m\n\u001b[0;32m     14\u001b[0m             \u001b[0mimg\u001b[0m \u001b[1;33m=\u001b[0m \u001b[0mcv2\u001b[0m\u001b[1;33m.\u001b[0m\u001b[0mimread\u001b[0m\u001b[1;33m(\u001b[0m\u001b[1;34m\"./public_training_data_test/\"\u001b[0m \u001b[1;33m+\u001b[0m \u001b[0mi\u001b[0m \u001b[1;33m+\u001b[0m \u001b[1;34m\".jpg\"\u001b[0m\u001b[1;33m)\u001b[0m\u001b[1;33m\u001b[0m\u001b[1;33m\u001b[0m\u001b[0m\n\u001b[1;32m---> 15\u001b[1;33m         \u001b[0mcrop_img\u001b[0m \u001b[1;33m=\u001b[0m \u001b[0mimg\u001b[0m\u001b[1;33m[\u001b[0m\u001b[0mc\u001b[0m\u001b[1;33m:\u001b[0m\u001b[0md\u001b[0m\u001b[1;33m,\u001b[0m \u001b[0ma\u001b[0m\u001b[1;33m:\u001b[0m\u001b[0mb\u001b[0m\u001b[1;33m]\u001b[0m\u001b[1;33m\u001b[0m\u001b[1;33m\u001b[0m\u001b[0m\n\u001b[0m\u001b[0;32m     16\u001b[0m         \u001b[0mcv2\u001b[0m\u001b[1;33m.\u001b[0m\u001b[0mimshow\u001b[0m\u001b[1;33m(\u001b[0m\u001b[1;34m\"crop\"\u001b[0m\u001b[1;33m,\u001b[0m \u001b[0mcrop_img\u001b[0m\u001b[1;33m)\u001b[0m\u001b[1;33m\u001b[0m\u001b[1;33m\u001b[0m\u001b[0m\n\u001b[0;32m     17\u001b[0m \u001b[1;33m\u001b[0m\u001b[0m\n",
      "\u001b[1;31mTypeError\u001b[0m: 'NoneType' object is not subscriptable"
     ]
    }
   ],
   "source": [
    "import csv\n",
    "import cv2\n",
    "import os\n",
    "images_name = os.listdir(\"./public_training_data_test/\")\n",
    "\n",
    "with open('./public_training_data_test.csv') as csvfile:\n",
    "    rows = csv.DictReader(csvfile)\n",
    "    for row in rows:\n",
    "        a = int(float(row['top left x']))\n",
    "        b = int(float(row['top left y']))\n",
    "        c = int(float(row['bottom right x']))\n",
    "        d = int(float(row['bottom right y']))\n",
    "        for i in images_name:\n",
    "            img = cv2.imread(\"./public_training_data_test/\" + i + \".jpg\")\n",
    "            crop_img = img[c:d, a:b]\n",
    "        cv2.imshow(\"crop\", crop_img)\n",
    "\n",
    "        \n",
    "#         print(f)"
   ]
  },
  {
   "cell_type": "code",
   "execution_count": null,
   "id": "1f571841",
   "metadata": {},
   "outputs": [],
   "source": []
  }
 ],
 "metadata": {
  "kernelspec": {
   "display_name": "Python 3",
   "language": "python",
   "name": "python3"
  },
  "language_info": {
   "codemirror_mode": {
    "name": "ipython",
    "version": 3
   },
   "file_extension": ".py",
   "mimetype": "text/x-python",
   "name": "python",
   "nbconvert_exporter": "python",
   "pygments_lexer": "ipython3",
   "version": "3.8.8"
  }
 },
 "nbformat": 4,
 "nbformat_minor": 5
}
