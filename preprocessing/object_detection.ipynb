{
 "cells": [
  {
   "cell_type": "code",
   "execution_count": 24,
   "id": "6a3671d5",
   "metadata": {},
   "outputs": [],
   "source": [
    "import csv\n",
    "import cv2\n",
    "\n",
    "img_path = './dataset/non_modified/public_training_data/'\n",
    "\n",
    "with open('./dataset/label/public_training_data.csv', newline='', encoding='utf-8') as file:\n",
    "    rows = csv.DictReader(file)\n",
    "    for row in rows:\n",
    "        img_name = row['filename'] + '.jpg'\n",
    "        image = cv2.imread(img_path + img_name)\n",
    "        x1 = int(float(row['top left x']))\n",
    "        x2 = int(float(row['top left y']))\n",
    "        x3 = int(float(row['bottom right x']))\n",
    "        x4 = int(float(row['bottom right y']))\n",
    "        cv2.rectangle(image, (x1, x2), (x3, x4), (0, 255, 0), 5)\n",
    "        roi = image[x2:x4, x1:x3]\n",
    "        filename = \"F:/crnn/dataset/modified_object_detection/public_training_data/\" + img_name\n",
    "        cv2.imwrite(filename, roi)"
   ]
  },
  {
   "cell_type": "code",
   "execution_count": null,
   "id": "22d88290",
   "metadata": {},
   "outputs": [],
   "source": []
  }
 ],
 "metadata": {
  "kernelspec": {
   "display_name": "Python 3",
   "language": "python",
   "name": "python3"
  },
  "language_info": {
   "codemirror_mode": {
    "name": "ipython",
    "version": 3
   },
   "file_extension": ".py",
   "mimetype": "text/x-python",
   "name": "python",
   "nbconvert_exporter": "python",
   "pygments_lexer": "ipython3",
   "version": "3.8.8"
  }
 },
 "nbformat": 4,
 "nbformat_minor": 5
}
