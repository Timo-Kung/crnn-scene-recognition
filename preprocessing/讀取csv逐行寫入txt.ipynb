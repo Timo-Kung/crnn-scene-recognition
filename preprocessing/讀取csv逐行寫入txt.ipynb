{
 "cells": [
  {
   "cell_type": "code",
   "execution_count": 31,
   "id": "97a26ea9",
   "metadata": {},
   "outputs": [],
   "source": [
    "import csv\n",
    "file = \"./public_training_data.csv\"\n",
    "\n",
    "filename = open(file)\n",
    "reader = csv.reader(filename)\n",
    "for row in reader:\n",
    "    a = str(row[0])\n",
    "    b = str(row[2])\n",
    "    c = str(row[3])\n",
    "    d = str(row[4])\n",
    "    e = str(row[5])\n",
    "    f = str(row[6])\n",
    "    g = str(row[7])\n",
    "    h = str(row[8])\n",
    "    i = str(row[9])\n",
    "    j = (a +\".jpg\" + \" \"+b+\" \"+c+\" \"+d+\" \"+e+\" \"+f+\" \"+g+\" \"+i+\"\\n\")\n",
    "    with open(\"./123.txt\", \"a\") as f:\n",
    "        f.write(j)"
   ]
  },
  {
   "cell_type": "code",
   "execution_count": null,
   "id": "bb122be9",
   "metadata": {},
   "outputs": [],
   "source": []
  }
 ],
 "metadata": {
  "kernelspec": {
   "display_name": "Python 3",
   "language": "python",
   "name": "python3"
  },
  "language_info": {
   "codemirror_mode": {
    "name": "ipython",
    "version": 3
   },
   "file_extension": ".py",
   "mimetype": "text/x-python",
   "name": "python",
   "nbconvert_exporter": "python",
   "pygments_lexer": "ipython3",
   "version": "3.8.8"
  }
 },
 "nbformat": 4,
 "nbformat_minor": 5
}
