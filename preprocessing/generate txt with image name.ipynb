{
 "cells": [
  {
   "cell_type": "code",
   "execution_count": 15,
   "id": "78c287d5",
   "metadata": {},
   "outputs": [
    {
     "ename": "AttributeError",
     "evalue": "'str' object has no attribute 'touch'",
     "output_type": "error",
     "traceback": [
      "\u001b[1;31m---------------------------------------------------------------------------\u001b[0m",
      "\u001b[1;31mAttributeError\u001b[0m                            Traceback (most recent call last)",
      "\u001b[1;32m<ipython-input-15-87fe2bb0f1e2>\u001b[0m in \u001b[0;36m<module>\u001b[1;34m\u001b[0m\n\u001b[0;32m     32\u001b[0m     \u001b[0mtxt_save_path\u001b[0m \u001b[1;33m=\u001b[0m \u001b[0mtxt_path\u001b[0m \u001b[1;33m+\u001b[0m \u001b[0mtxt_name\u001b[0m\u001b[1;33m\u001b[0m\u001b[1;33m\u001b[0m\u001b[0m\n\u001b[0;32m     33\u001b[0m     \u001b[1;31m# 生成txt檔案\u001b[0m\u001b[1;33m\u001b[0m\u001b[1;33m\u001b[0m\u001b[1;33m\u001b[0m\u001b[0m\n\u001b[1;32m---> 34\u001b[1;33m     \u001b[0mcreateFileList\u001b[0m\u001b[1;33m(\u001b[0m\u001b[0mimages_path\u001b[0m\u001b[1;33m,\u001b[0m \u001b[0mtxt_save_path\u001b[0m\u001b[1;33m)\u001b[0m\u001b[1;33m\u001b[0m\u001b[1;33m\u001b[0m\u001b[0m\n\u001b[0m",
      "\u001b[1;32m<ipython-input-15-87fe2bb0f1e2>\u001b[0m in \u001b[0;36mcreateFileList\u001b[1;34m(images_path, txt_save_path)\u001b[0m\n\u001b[0;32m     12\u001b[0m         \u001b[0mmyfile\u001b[0m \u001b[1;33m=\u001b[0m \u001b[0mPath\u001b[0m\u001b[1;33m(\u001b[0m\u001b[1;34m'./yolo/dataset/public_training_data_txt/'\u001b[0m \u001b[1;33m+\u001b[0m \u001b[0meachname\u001b[0m \u001b[1;33m+\u001b[0m \u001b[1;34m\".txt\"\u001b[0m\u001b[1;33m)\u001b[0m\u001b[1;33m.\u001b[0m\u001b[0mstem\u001b[0m\u001b[1;33m\u001b[0m\u001b[1;33m\u001b[0m\u001b[0m\n\u001b[0;32m     13\u001b[0m \u001b[1;31m#         myfile = os.path.split('myfile')[1]\u001b[0m\u001b[1;33m\u001b[0m\u001b[1;33m\u001b[0m\u001b[1;33m\u001b[0m\u001b[0m\n\u001b[1;32m---> 14\u001b[1;33m         \u001b[0mmyfile\u001b[0m\u001b[1;33m.\u001b[0m\u001b[0mtouch\u001b[0m\u001b[1;33m(\u001b[0m\u001b[0mexist_ok\u001b[0m\u001b[1;33m=\u001b[0m\u001b[1;32mTrue\u001b[0m\u001b[1;33m)\u001b[0m\u001b[1;33m\u001b[0m\u001b[1;33m\u001b[0m\u001b[0m\n\u001b[0m\u001b[0;32m     15\u001b[0m         \u001b[0mf\u001b[0m \u001b[1;33m=\u001b[0m \u001b[0mopen\u001b[0m\u001b[1;33m(\u001b[0m\u001b[0mmyfile\u001b[0m\u001b[1;33m)\u001b[0m\u001b[1;33m\u001b[0m\u001b[1;33m\u001b[0m\u001b[0m\n\u001b[0;32m     16\u001b[0m     \u001b[1;31m# 列印成功資訊\u001b[0m\u001b[1;33m\u001b[0m\u001b[1;33m\u001b[0m\u001b[1;33m\u001b[0m\u001b[0m\n",
      "\u001b[1;31mAttributeError\u001b[0m: 'str' object has no attribute 'touch'"
     ]
    }
   ],
   "source": [
    "import os\n",
    "from pathlib import Path\n",
    "\n",
    "def createFileList(images_path, txt_save_path):\n",
    "    # 開啟圖片列表清單txt檔案\n",
    "    fw = open(txt_save_path, \"w\")\n",
    "    # 檢視圖片目錄下的檔案,相當於shell指令ls\n",
    "    images_name = os.listdir(\"./dataset/non_modified/public_training_data/\")\n",
    "    # 遍歷所有檔名\n",
    "    for eachname in images_name:\n",
    "        # 按照規則將內容寫成txt檔案中\n",
    "        myfile = Path('./yolo/dataset/public_training_data_txt/' + eachname + \".txt\")\n",
    "        myfile = os.path.split('myfile')[1]\n",
    "        myfile.touch(exist_ok=True)\n",
    "        f = open(myfile)\n",
    "    # 列印成功資訊\n",
    "    print (\"生成txt檔案成功\")\n",
    "    # 關閉fw\n",
    "    fw.close()\n",
    "\n",
    "\n",
    "# 下面是相關變數定義的路徑\n",
    "if __name__ == '__main__':\n",
    "\n",
    "    # txt存放目錄,並且注意這邊的路徑有中文，所以要做一些變換。\n",
    "    txt_path=u\"./dataset/non_modified/\"\n",
    "    # 圖片存放目錄\n",
    "    images_path = u'./dataset/non_modified/public_training_data/'\n",
    "    # 生成的圖片列表清單txt檔名\n",
    "    txt_name = 'public_training.txt'\n",
    "    # 生成的圖片列表清單txt檔案的儲存目錄\n",
    "    txt_save_path = txt_path + txt_name\n",
    "    # 生成txt檔案\n",
    "    createFileList(images_path, txt_save_path)"
   ]
  },
  {
   "cell_type": "code",
   "execution_count": null,
   "id": "947e2c3f",
   "metadata": {},
   "outputs": [],
   "source": []
  }
 ],
 "metadata": {
  "kernelspec": {
   "display_name": "Python 3",
   "language": "python",
   "name": "python3"
  },
  "language_info": {
   "codemirror_mode": {
    "name": "ipython",
    "version": 3
   },
   "file_extension": ".py",
   "mimetype": "text/x-python",
   "name": "python",
   "nbconvert_exporter": "python",
   "pygments_lexer": "ipython3",
   "version": "3.8.8"
  }
 },
 "nbformat": 4,
 "nbformat_minor": 5
}
