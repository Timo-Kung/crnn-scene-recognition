{
 "cells": [
  {
   "cell_type": "code",
   "execution_count": 4,
   "id": "a7ce5511",
   "metadata": {},
   "outputs": [
    {
     "name": "stdout",
     "output_type": "stream",
     "text": [
      "生成txt檔案成功\n"
     ]
    }
   ],
   "source": [
    "import os\n",
    "import re\n",
    "\n",
    "def createFileList(images_path, txt_save_path):\n",
    "    # 開啟圖片列表清單txt檔案\n",
    "    fw = open(txt_save_path, \"w\")\n",
    "    # 檢視圖片目錄下的檔案,相當於shell指令ls\n",
    "    images_name = os.listdir(\"./dataset/non_modified/public_training_data/\")\n",
    "    # 遍歷所有檔名\n",
    "    for eachname in images_name:\n",
    "        # 按照規則將內容寫入txt檔案中\n",
    "        fw.write('/content/drive/MyDrive/T-brain/crnn/yolo/images/val/'+eachname+'\\n')\n",
    "    # 列印成功資訊\n",
    "    print (\"生成txt檔案成功\")\n",
    "    # 關閉fw\n",
    "    fw.close()\n",
    "\n",
    "\n",
    "# 下面是相關變數定義的路徑\n",
    "if __name__ == '__main__':\n",
    "\n",
    "    # txt存放目錄,並且注意這邊的路徑有中文，所以要做一些變換。\n",
    "    txt_path=u\"./dataset/non_modified/\"\n",
    "    # 圖片存放目錄\n",
    "    images_path = u'./dataset/non_modified/public_validation_data/'\n",
    "    # 生成的圖片列表清單txt檔名\n",
    "    txt_name = 'public_validation_data.txt'\n",
    "    # 生成的圖片列表清單txt檔案的儲存目錄\n",
    "    txt_save_path = txt_path + txt_name\n",
    "    # 生成txt檔案\n",
    "    createFileList(images_path, txt_save_path)"
   ]
  },
  {
   "cell_type": "code",
   "execution_count": null,
   "id": "36b4352c",
   "metadata": {},
   "outputs": [],
   "source": []
  }
 ],
 "metadata": {
  "kernelspec": {
   "display_name": "Python 3",
   "language": "python",
   "name": "python3"
  },
  "language_info": {
   "codemirror_mode": {
    "name": "ipython",
    "version": 3
   },
   "file_extension": ".py",
   "mimetype": "text/x-python",
   "name": "python",
   "nbconvert_exporter": "python",
   "pygments_lexer": "ipython3",
   "version": "3.8.8"
  }
 },
 "nbformat": 4,
 "nbformat_minor": 5
}
